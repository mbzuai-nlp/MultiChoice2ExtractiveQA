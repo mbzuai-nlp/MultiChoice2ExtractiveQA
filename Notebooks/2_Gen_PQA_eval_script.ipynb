{
 "cells": [
  {
   "cell_type": "code",
   "execution_count": null,
   "metadata": {},
   "outputs": [],
   "source": [
    "# Author: Malik Altakrori, PhD\n",
    "# IBM Research\n",
    "# malik.altakrori@ibm.com"
   ]
  },
  {
   "cell_type": "code",
   "execution_count": null,
   "metadata": {},
   "outputs": [],
   "source": [
    "# This script is used to generate the .sh file \n",
    "# these .sh files are split for the different experiments \n",
    "\n",
    "# script is based on : https://github.com/primeqa/primeqa/blob/main/extensions/custom_mrc/run_mrc_eval.sh"
   ]
  },
  {
   "cell_type": "code",
   "execution_count": null,
   "metadata": {},
   "outputs": [],
   "source": [
    "import os\n",
    "import glob"
   ]
  },
  {
   "cell_type": "raw",
   "metadata": {},
   "source": [
    "#using the model that was trained on multiple datasets\n",
    "PrimeQA/nq_tydi_sq1-reader-xlmr_large-20221110: An XLM-RoBERTa"
   ]
  },
  {
   "cell_type": "code",
   "execution_count": null,
   "metadata": {},
   "outputs": [],
   "source": [
    "root_folder = \"<Provide the abs path to the repo>\"\n",
    "\n",
    "# install primeqa from: https://github.com/primeqa/primeqa \n",
    "# notice that there are 2x primeQA. We want the 2nd level primeQA from the link above\n",
    "primeqa_path = \"<your_folder>/primeqa/primeqa\" "
   ]
  },
  {
   "cell_type": "code",
   "execution_count": null,
   "metadata": {},
   "outputs": [],
   "source": [
    "# test run\n",
    "def write_script(\n",
    "    root_folder,\n",
    "    setting, \n",
    "    lang,\n",
    "    output_dir_parent, \n",
    "    fileNames,\n",
    "    primeqa_path = \"../primeqa/primeqa\",\n",
    "    model_name = \"PrimeQA/nq_tydi_sq1-reader-xlmr_large-20221110\",\n",
    "    translated=False,\n",
    "    new_file: bool = False):\n",
    "\n",
    "    if len(fileNames) == 0:\n",
    "        raise ValueError\n",
    "\n",
    "    if not translated:\n",
    "        script_path = os.path.join(root_folder, \"Scripts\", \"original\", f'run_mrc_eval_{lang}_{setting}.sh')\n",
    "    else:\n",
    "        script_path = os.path.join(root_folder, \"Scripts\", \"translated\", f'run_mrc_eval_{lang}_{setting}.sh')\n",
    "\n",
    "    print(script_path)\n",
    "    if new_file:\n",
    "        with open(script_path, 'w') as shFile:\n",
    "            # starting with the header\n",
    "            shFile.write(\n",
    "            \"\"\"#!/usr/bin/env bash \\ \n",
    "set -xeo pipefail \\n\\n\"\"\")\n",
    "            \n",
    "    for fname in fileNames:\n",
    "        output_dir_child = os.path.basename(fname).split('.')[0]\n",
    "        template = f\"\"\"python {os.path.join(primeqa_path, \"primeqa/mrc/run_mrc.py\")} \\\n",
    "--model_name_or_path {model_name} \\\n",
    "--eval_file {fname} \\\n",
    "--preprocessor primeqa.mrc.processors.preprocessors.squad.SQUADPreprocessor \\\n",
    "--postprocessor primeqa.mrc.processors.postprocessors.squad.SQUADPostProcessor \\\n",
    "--eval_metrics SQUAD \\\n",
    "--output_dir {os.path.join(root_folder, output_dir_parent, setting, f\"Results_{lang}\", output_dir_child)} \\\n",
    "--do_eval --per_device_eval_batch_size 8 \\\n",
    "--overwrite_output_dir --overwrite_cache\"\"\"\n",
    "        with open(script_path, 'a+') as shFile:\n",
    "            shFile.write(template)\n",
    "            shFile.write(\"\\n\\n\")\n",
    "\n",
    "    print(\"done\")"
   ]
  },
  {
   "cell_type": "markdown",
   "metadata": {},
   "source": [
    "## Generate Script for experiments in Table 2 "
   ]
  },
  {
   "cell_type": "code",
   "execution_count": null,
   "metadata": {},
   "outputs": [],
   "source": [
    "# input/output\n",
    "script_location = \"Settings\"\n",
    "output_dir_parent = \"Results\""
   ]
  },
  {
   "cell_type": "code",
   "execution_count": null,
   "metadata": {},
   "outputs": [],
   "source": [
    "overwrite_existing = True\n",
    "for out_f in ['original', 'translated']:\n",
    "    output_folder = os.path.join(root_folder, \"Scripts\", out_f)\n",
    "    try:\n",
    "        os.makedirs(output_folder, exist_ok=overwrite_existing)\n",
    "    except:\n",
    "        print(f\"WARNING: Folder {output_folder} exists, either delete manually, or set overwrite_existing to True\")\n",
    "        raise ValueError"
   ]
  },
  {
   "cell_type": "code",
   "execution_count": null,
   "metadata": {},
   "outputs": [],
   "source": [
    "\"\"\"\n",
    "The experiments are used to compare two models on the SQuAD english dataset. So we compare with English only\n",
    "\n",
    "\"\"\"\n",
    "models = [\"PrimeQA/nq_tydi-reader-xlmr_large-20221210\", \"PrimeQA/nq_tydi_sq1-reader-xlmr_large-20221110\"]\n",
    "with open(os.path.join(root_folder, \"scripts\", \"original\", f'run_mrc_eval_SQuAD.sh'), 'w') as shFile:\n",
    "    # starting with the header\n",
    "    shFile.write(\n",
    "    \"\"\"#!/usr/bin/env bash \\ \n",
    "set -xeo pipefail \\n\\n\"\"\")\n",
    "    \n",
    "    fileNames = []\n",
    "    for setting in [\"All\", \"NoBB\"]:\n",
    "        fileNames.extend(glob.glob(os.path.join(root_folder, script_location, setting, \"EN-P_EN-Q.jsonl\")))       \n",
    "\n",
    "    # manually add SQuAD\n",
    "    fileNames.append(os.path.join(root_folder, \"Data\", \"squad.jsonl\"))\n",
    "    \n",
    "    for model_name in models:\n",
    "        for fname in fileNames:\n",
    "            output_dir_child = os.path.basename(fname).split('.')[0]\n",
    "            template = f\"\"\"python {os.path.join(primeqa_path, \"primeqa/mrc/run_mrc.py\")} \\\n",
    "--model_name_or_path {model_name} \\\n",
    "--eval_file {fname} \\\n",
    "--preprocessor primeqa.mrc.processors.preprocessors.squad.SQUADPreprocessor \\\n",
    "--postprocessor primeqa.mrc.processors.postprocessors.squad.SQUADPostProcessor \\\n",
    "--eval_metrics SQUAD \\\n",
    "--output_dir {os.path.join(root_folder, output_dir_parent, \"SQuAD_validation\", output_dir_child)} \\\n",
    "--do_eval --per_device_eval_batch_size 8 \\\n",
    "--overwrite_output_dir --overwrite_cache\"\"\"\n",
    "            shFile.write(template)\n",
    "            shFile.write(\"\\n\\n\")\n"
   ]
  },
  {
   "cell_type": "markdown",
   "metadata": {},
   "source": [
    "## Generating Script for experiments in Table 3"
   ]
  },
  {
   "cell_type": "markdown",
   "metadata": {},
   "source": [
    "### original/dialectal questions"
   ]
  },
  {
   "cell_type": "code",
   "execution_count": null,
   "metadata": {},
   "outputs": [],
   "source": [
    "script_location = \"Settings\"\n",
    "output_dir_parent = \"Results\"\n",
    "\n",
    "for setting in [\"All\", \"NoBB\"]:\n",
    "    print(f\"Generating sh script for {setting} questions\")\n",
    "    for lang in [\"EN\", \"MSA\"]:\n",
    "        print(f\"{lang} Passages\")\n",
    "        fileNames = glob.glob(os.path.join(root_folder, script_location, setting, f\"{lang}-P*\"))\n",
    "\n",
    "        write_script(root_folder, setting, lang, output_dir_parent, fileNames, primeqa_path, new_file=True)"
   ]
  },
  {
   "cell_type": "raw",
   "metadata": {
    "vscode": {
     "languageId": "raw"
    }
   },
   "source": [
    "You are ready to run the first batch of experiments!\n",
    "Run each one of the above shell files in CMD\n",
    "done forget to activate your env that has primeQA installed"
   ]
  },
  {
   "cell_type": "raw",
   "metadata": {
    "vscode": {
     "languageId": "raw"
    }
   },
   "source": [
    "At this point, 4 files will be generated: run_mrc_eval_<passage_lang>_<questions_setting>. \n",
    "Each file is a batch of 7 experiments (En, MSA, and 5 dialects). Activate your env, and run the batch files \n",
    "Here's a breakdown of the different parts of a run\n",
    "\n",
    "python ../primeqa/primeqa/primeqa/mrc/run_mrc.py : runs primeqa MRC experiemnts\n",
    "\n",
    "--model_name_or_path PrimeQA/nq_tydi_sq1-reader-xlmr_large-20221110 : your choice of pretrained LM finetuned for QA to be used \n",
    "\n",
    "--eval_file ../Data/Settings/All/EN-P_acm-Q.jsonl : We are not doing any training just eval on a file with English passages and ACM questions\n",
    "\n",
    "--preprocessor primeqa.mrc.processors.preprocessors.squad.SQUADPreprocessor \\ \n",
    "--postprocessor primeqa.mrc.processors.postprocessors.squad.SQUADPostProcessor \\\n",
    "--eval_metrics SQUAD  ::: The question are SQuAD style and treated as so\n",
    "\n",
    "--output_dir ../Results/All/Results_EN/EN-P_acm-Q : where you data goes (a specific folder per run, otherwise the output will overwrite prev runs)\n",
    "\n",
    "--do_eval : tell PrimeQA not to look for training parameters \n",
    "\n",
    "--per_device_eval_batch_size 8 --overwrite_output_dir --overwrite_cache : self-explained\n"
   ]
  },
  {
   "cell_type": "markdown",
   "metadata": {},
   "source": [
    "### Translated dialectal questions\n",
    "\n",
    "We translated dialectal questions to English, and to English->MSA "
   ]
  },
  {
   "cell_type": "code",
   "execution_count": null,
   "metadata": {},
   "outputs": [],
   "source": [
    "script_location = \"Settings_Translated\"\n",
    "output_dir_parent = \"Results_Translated\"\n",
    "\n",
    "for setting in [\"All\", \"NoBB\"]:\n",
    "    print(f\"Generating sh script for {setting} questions\")\n",
    "    for lang in [\"EN\", \"MSA\"]:\n",
    "        print(f\"{lang} Passages\")\n",
    "        fileNames = glob.glob(os.path.join(root_folder, script_location, setting, f\"{lang}-P*\"))\n",
    "\n",
    "        write_script(root_folder, setting, lang, output_dir_parent, fileNames, primeqa_path, new_file=True, translated=True)"
   ]
  },
  {
   "cell_type": "code",
   "execution_count": null,
   "metadata": {},
   "outputs": [],
   "source": [
    "# run each shell file from the files above"
   ]
  },
  {
   "cell_type": "markdown",
   "metadata": {},
   "source": [
    "# now to notebook 3"
   ]
  }
 ],
 "metadata": {
  "kernelspec": {
   "display_name": "primeqa",
   "language": "python",
   "name": "python3"
  },
  "language_info": {
   "codemirror_mode": {
    "name": "ipython",
    "version": 3
   },
   "file_extension": ".py",
   "mimetype": "text/x-python",
   "name": "python",
   "nbconvert_exporter": "python",
   "pygments_lexer": "ipython3",
   "version": "3.10.14"
  }
 },
 "nbformat": 4,
 "nbformat_minor": 2
}
